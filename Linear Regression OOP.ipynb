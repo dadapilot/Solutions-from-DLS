{
 "cells": [
  {
   "cell_type": "markdown",
   "metadata": {
    "colab_type": "text",
    "id": "C7da2Fck9bVb"
   },
   "source": [
    "<p style=\"align: center;\"><img align=center src=\"https://s8.hostingkartinok.com/uploads/images/2018/08/308b49fcfbc619d629fe4604bceb67ac.jpg\"  width=400></p>\n",
    "\n",
    "<h3 style=\"text-align: center;\"><b>Физтех-Школа Прикладной математики и информатики (ФПМИ) МФТИ</b></h3>"
   ]
  },
  {
   "cell_type": "code",
   "execution_count": 12,
   "metadata": {
    "colab": {},
    "colab_type": "code",
    "id": "atiKUuqH9bVh"
   },
   "outputs": [],
   "source": [
    "from matplotlib import pyplot as plt\n",
    "import numpy as np\n",
    "from sklearn import datasets\n",
    "from sklearn.model_selection import train_test_split"
   ]
  },
  {
   "cell_type": "code",
   "execution_count": 13,
   "metadata": {
    "colab": {},
    "colab_type": "code",
    "id": "M7MgX9Oq9bVo"
   },
   "outputs": [],
   "source": [
    "np.random.seed(42)"
   ]
  },
  {
   "cell_type": "markdown",
   "metadata": {
    "colab_type": "text",
    "id": "1OcPBXmA9bWD"
   },
   "source": [
    "### Linear Regression"
   ]
  },
  {
   "cell_type": "raw",
   "metadata": {
    "colab": {},
    "colab_type": "code",
    "id": "Y03uNHOo9bWH"
   },
   "source": [
    "X, Y = datasets.make_regression(n_targets=3, n_features=2, noise=10, random_state=42)\n",
    "X_train, X_test, Y_train, Y_test = train_test_split(X, Y)"
   ]
  },
  {
   "cell_type": "markdown",
   "metadata": {
    "colab_type": "text",
    "id": "MmvQUMYN9bWM"
   },
   "source": [
    "В градиентном спуске на следующем шаге значения параметров получаются из значений на текущем шаге смещением в сторону антиградиента функции потерь:\n",
    "\n",
    "$$W_{(k+1)} = W_{(k)} - \\eta_k \\nabla Q(W_{(k)}),$$\n",
    "где $\\eta_t$ — длина шага (learning rate).\n",
    "\n",
    "Градиент в случае MSE выглядит следующим образом:\n",
    "\n",
    "$$\\nabla Q(W) = \\frac{2}{n}X^T(X*W - Y)$$\n",
    "\n"
   ]
  },
  {
   "cell_type": "code",
   "execution_count": 28,
   "metadata": {},
   "outputs": [],
   "source": [
    "class LinearRegression:\n",
    "    \n",
    "    def __init__(self, mae_metric=False):\n",
    "    \n",
    "        self.metric = self.calc_mse_metric if not mae_metric else self.calc_mae_metric\n",
    "    \n",
    "    def calc_mae_metric(self, preds, y):\n",
    "        \n",
    "        mae = (abs(y-preds)).sum()/len(preds)\n",
    "        \n",
    "        return mae\n",
    "          \n",
    "    def calc_mse_metric(self, preds, y):\n",
    "        \n",
    "        mse = ((y-preds)**2).sum()/len(preds)\n",
    "        \n",
    "        return mse\n",
    "          \n",
    "    \n",
    "    def init_weights(self, input_size, output_size):\n",
    "       \n",
    "        np.random.seed(42)\n",
    "       \n",
    "        self.W = np.random.normal(loc=0.0, scale=0.01, size=(input_size, output_size))\n",
    "        self.b = np.zeros((1, output_size), dtype = float) #YOUR_CODE\n",
    "\n",
    "    def fit(self, X, y, num_epochs=1000, lr=0.001):\n",
    "        \"\"\"\n",
    "            Обучение модели линейной регрессии методом градиентного спуска\n",
    "            @param X: размерности (num_samples, input_shape)\n",
    "            @param y: размерности (num_samples, output_shape)\n",
    "            @param num_epochs: количество итераций градиентного спуска\n",
    "            @param lr: шаг градиентного спуска\n",
    "            @return metrics: вектор значений метрики на каждом шаге градиентного\n",
    "            спуска. В случае mae_metric==True вычисляется метрика MAE\n",
    "            иначе MSE\n",
    "        \"\"\"\n",
    "        self.init_weights(X.shape[1], y.shape[1])  \n",
    "        metrics = []\n",
    "        for _ in range(num_epochs):\n",
    "            preds = self.predict(X)\n",
    "            \n",
    "            b_grad = np.mean((X.dot(self.W) + self.b - y), axis=0)\n",
    "            W_grad = np.array(2/X.shape[0]*X.T.dot(X.dot(self.W)+self.b - y))\n",
    "            \n",
    "            self.W -= lr*W_grad   \n",
    "            self.b -= lr*b_grad *2  \n",
    "            metrics.append(self.metric(preds, y))\n",
    "        return metrics\n",
    "\n",
    "    def predict(self, X):\n",
    "       \n",
    "        return X@self.W+self.b  "
   ]
  },
  {
   "cell_type": "code",
   "execution_count": 29,
   "metadata": {
    "colab": {},
    "colab_type": "code",
    "id": "8sX8a5OE9bWQ"
   },
   "outputs": [
    {
     "ename": "NameError",
     "evalue": "name 'Y_train' is not defined",
     "output_type": "error",
     "traceback": [
      "\u001b[0;31m---------------------------------------------------------------------------\u001b[0m",
      "\u001b[0;31mNameError\u001b[0m                                 Traceback (most recent call last)",
      "\u001b[0;32m<ipython-input-29-ec8dd94c9e55>\u001b[0m in \u001b[0;36m<module>\u001b[0;34m\u001b[0m\n\u001b[1;32m      1\u001b[0m \u001b[0mmodel\u001b[0m \u001b[0;34m=\u001b[0m \u001b[0mLinearRegression\u001b[0m\u001b[0;34m(\u001b[0m\u001b[0;34m)\u001b[0m\u001b[0;34m\u001b[0m\u001b[0;34m\u001b[0m\u001b[0m\n\u001b[0;32m----> 2\u001b[0;31m \u001b[0mmse\u001b[0m \u001b[0;34m=\u001b[0m \u001b[0mmodel\u001b[0m\u001b[0;34m.\u001b[0m\u001b[0mfit\u001b[0m\u001b[0;34m(\u001b[0m\u001b[0mX_train\u001b[0m\u001b[0;34m,\u001b[0m \u001b[0mY_train\u001b[0m\u001b[0;34m)\u001b[0m\u001b[0;34m\u001b[0m\u001b[0;34m\u001b[0m\u001b[0m\n\u001b[0m",
      "\u001b[0;31mNameError\u001b[0m: name 'Y_train' is not defined"
     ]
    }
   ],
   "source": [
    "model = LinearRegression()\n",
    "mse = model.fit(X_train, Y_train)"
   ]
  },
  {
   "cell_type": "code",
   "execution_count": 30,
   "metadata": {
    "colab": {},
    "colab_type": "code",
    "id": "EGGKJjz99bWT",
    "scrolled": true
   },
   "outputs": [
    {
     "ename": "NameError",
     "evalue": "name 'mse' is not defined",
     "output_type": "error",
     "traceback": [
      "\u001b[0;31m---------------------------------------------------------------------------\u001b[0m",
      "\u001b[0;31mNameError\u001b[0m                                 Traceback (most recent call last)",
      "\u001b[0;32m<ipython-input-30-97e466b527b4>\u001b[0m in \u001b[0;36m<module>\u001b[0;34m\u001b[0m\n\u001b[1;32m      1\u001b[0m \u001b[0;31m# Постройте график для MSE\u001b[0m\u001b[0;34m\u001b[0m\u001b[0;34m\u001b[0m\u001b[0;34m\u001b[0m\u001b[0m\n\u001b[0;32m----> 2\u001b[0;31m \u001b[0mplt\u001b[0m\u001b[0;34m.\u001b[0m\u001b[0mplot\u001b[0m\u001b[0;34m(\u001b[0m\u001b[0mmse\u001b[0m\u001b[0;34m)\u001b[0m\u001b[0;34m\u001b[0m\u001b[0;34m\u001b[0m\u001b[0m\n\u001b[0m",
      "\u001b[0;31mNameError\u001b[0m: name 'mse' is not defined"
     ]
    }
   ],
   "source": [
    "# Постройте график для MSE\n",
    "plt.plot(mse)"
   ]
  },
  {
   "cell_type": "markdown",
   "metadata": {
    "colab_type": "text",
    "id": "2L0RrFne9bWV"
   },
   "source": [
    "#### Задание 2.\n",
    "\n",
    "1. Зафиксируйте `random.seed == 42`\n",
    "2. Сгенерируйте данные с помощью `make_regression` с параметами `n_targets=3, n_features=2, noise=10, random_state=42`. С помощью `train_test_split` разделите данные на обучение и тест \n",
    "3. Обучите модель линейной регрессии с параметрами по умолчанию.\n",
    "\n",
    "####  Задание 3.\n",
    "\n",
    "1. Обучите модель линейной регрессии на тех же данных. В этот раз считайте MAE"
   ]
  },
  {
   "cell_type": "code",
   "execution_count": 17,
   "metadata": {},
   "outputs": [
    {
     "data": {
      "text/plain": [
       "[<matplotlib.lines.Line2D at 0x1a2281c550>]"
      ]
     },
     "execution_count": 17,
     "metadata": {},
     "output_type": "execute_result"
    },
    {
     "data": {
      "image/png": "[encoded data removed]",
      "text/plain": [
       "<Figure size 432x288 with 1 Axes>"
      ]
     },
     "metadata": {
      "needs_background": "light"
     },
     "output_type": "display_data"
    }
   ],
   "source": [
    "XX, yy = datasets.make_regression(n_targets=3, n_features=2, noise=10, random_state=42)\n",
    "XX_train, XX_test, yy_train, yy_test = train_test_split(XX, yy, test_size = 0.33, random_state=42)\n",
    "\n",
    "model1 = LinearRegression()\n",
    "mse1 = model1.fit(XX_train, yy_train)\n",
    "plt.plot(mse1)"
   ]
  },
  {
   "cell_type": "markdown",
   "metadata": {
    "colab_type": "text",
    "id": "qmTfcFZB9bWW"
   },
   "source": [
    "### Логистическая регрессия"
   ]
  },
  {
   "cell_type": "markdown",
   "metadata": {
    "colab_type": "text",
    "id": "PDwAK1rj9bWX"
   },
   "source": [
    "Теперь будем решать задачу классификации при помощи логистической регрессии"
   ]
  },
  {
   "cell_type": "code",
   "execution_count": 18,
   "metadata": {
    "colab": {},
    "colab_type": "code",
    "id": "hXbUhTm99bWY"
   },
   "outputs": [],
   "source": [
    "X, y = datasets.make_blobs(n_samples=10000, n_features=2, centers=2, random_state=42)\n",
    "y = y[:, np.newaxis]\n",
    "X_train, X_test, y_train, y_test = train_test_split(X, y, random_state=42)"
   ]
  },
  {
   "cell_type": "code",
   "execution_count": 19,
   "metadata": {
    "colab": {},
    "colab_type": "code",
    "id": "O35OmKnM9bWb"
   },
   "outputs": [
    {
     "data": {
      "image/png": "[encoded data removed]",
      "text/plain": [
       "<Figure size 432x288 with 1 Axes>"
      ]
     },
     "metadata": {
      "needs_background": "light"
     },
     "output_type": "display_data"
    }
   ],
   "source": [
    "plt.scatter(X_train[:, 0], X_train[:, 1], c=y_train[:, 0])\n",
    "plt.show()"
   ]
  },
  {
   "cell_type": "markdown",
   "metadata": {
    "colab_type": "text",
    "id": "vn5RyTe89bWd"
   },
   "source": [
    "Небольшое напоминание по логистической регрессии:\n",
    "\n",
    "Сигмоида\n",
    "$$ \\sigma(h) = \\frac{1}{1 + exp(-h)} $$\n",
    "\n",
    "Вероятность принадлежности к классу\n",
    "\n",
    "$$ P(y = 1 | x, w) = \\sigma(x, w) $$\n",
    "\n",
    "Логистическая функция потерь\n",
    "\n",
    "$$ L(y, p) = - \\frac{1}{m}\\sum_{1}^{m}(y_i log(p_i) + (1 - y_i) log(1 - p_i)) $$"
   ]
  },
  {
   "cell_type": "code",
   "execution_count": 21,
   "metadata": {
    "colab": {},
    "colab_type": "code",
    "id": "u-Ey1TCu9bWe"
   },
   "outputs": [],
   "source": [
    "class LogisticRegressionGD:\n",
    "    '''\n",
    "    A simple logistic regression for binary classification with gradient descent\n",
    "    '''\n",
    "    \n",
    "    def __init__(self):\n",
    "        pass\n",
    "    \n",
    "    def __extend_X(self, X):\n",
    "        \n",
    "        return np.hstack((np.ones((X.shape[0], 1)), X))\n",
    "    \n",
    "    def init_weights(self, input_size, output_size):\n",
    "        \"\"\"\n",
    "            Инициализирует параметры модели\n",
    "            W - матрица размерности (input_size, output_size)\n",
    "            инициализируется рандомными числами из\n",
    "            нормального распределения со средним 0 и стандартным отклонением 0.01\n",
    "        \"\"\"\n",
    "        np.random.seed(42)\n",
    "        self.W = np.random.normal(loc=0.0, scale=0.01, size=(input_size, output_size))\n",
    "        \n",
    "    def get_loss(self, p, y):\n",
    "        \"\"\"\n",
    "            Данный метод вычисляет логистическую функцию потерь\n",
    "            @param p: Вероятности принадлежности к классу 1\n",
    "            @param y: Истинные метки\n",
    "        \"\"\"\n",
    "        #return -np.sum((y*p + (1-y)*np.log(1-p)))/y.shape[0]\n",
    "        summa = sum(-(y * np.log(p) + (1 - y) * np.log(1 - p)))\n",
    "        return summa / y.shape[0]\n",
    "                             \n",
    "    def sygmoid(self, X):\n",
    "        return 1/(1+np.exp(-X))\n",
    "                              \n",
    "    def get_prob(self, X):\n",
    "        \"\"\"\n",
    "            Данный метод вычисляет P(y=1|X,W)\n",
    "            Возможно, будет удобнее реализовать дополнительный\n",
    "            метод для вычисления сигмоиды\n",
    "        \"\"\"\n",
    "        if X.shape[1] != self.W.shape[0]:\n",
    "            X = self.__extend_X(X)\n",
    "        return self.sygmoid(X @ self.W)\n",
    "    \n",
    "    def get_acc(self, p, y, threshold=0.5):\n",
    "        \"\"\"\n",
    "            Данный метод вычисляет accuracy:\n",
    "            acc = \\frac{1}{len(y)}\\sum_{i=1}^{len(y)}{I[y_i == (p_i >= threshold)]}\n",
    "        \"\"\"\n",
    "        p[p>=threshold] = True\n",
    "        p[p<threshold] = False\n",
    "        y[y==1] = True\n",
    "        y[y==0] = False\n",
    "        return 1/y.shape[0]*np.array((np.where((y==p)))).shape[1]\n",
    "\n",
    "    def fit(self, X, y, num_epochs=100, lr=0.001):\n",
    "        \n",
    "        X = self.__extend_X(X)\n",
    "        self.init_weights(X.shape[1], y.shape[1])\n",
    "        \n",
    "        accs = []\n",
    "        losses = []\n",
    "        for _ in range(num_epochs):\n",
    "            p = self.get_prob(X)\n",
    "\n",
    "            W_grad = X.T @ (p-y)/y.shape[0]\n",
    "            self.W -= lr*W_grad\n",
    "            \n",
    "            # необходимо для стабильности вычислений под логарифмом\n",
    "            p = np.clip(p, 1e-10, 1 - 1e-10)\n",
    "            \n",
    "            log_loss = self.get_loss(p, y)\n",
    "            losses.append(log_loss)\n",
    "            acc = self.get_acc(p, y)\n",
    "            accs.append(acc)\n",
    "        \n",
    "        return accs, losses"
   ]
  },
  {
   "cell_type": "code",
   "execution_count": 22,
   "metadata": {
    "colab": {},
    "colab_type": "code",
    "id": "w-Pbq-fj9bWh"
   },
   "outputs": [],
   "source": [
    "model = LogisticRegressionGD()\n",
    "accs, losses = model.fit(X_train, y_train)"
   ]
  },
  {
   "cell_type": "code",
   "execution_count": 24,
   "metadata": {
    "colab": {},
    "colab_type": "code",
    "id": "ItS0UWut9bWl"
   },
   "outputs": [
    {
     "data": {
      "image/png": "[encoded data removed]",
      "text/plain": [
       "<Figure size 432x288 with 1 Axes>"
      ]
     },
     "metadata": {
      "needs_background": "light"
     },
     "output_type": "display_data"
    }
   ],
   "source": [
    "# графики для accuracy и для loss\n",
    "plt.plot(losses, label = 'loss')\n",
    "plt.plot(accs)\n",
    "plt.show()\n"
   ]
  },
  {
   "cell_type": "markdown",
   "metadata": {
    "colab_type": "text",
    "id": "TRJRxlLH9bWp"
   },
   "source": [
    "#### Задание 4\n",
    "\n",
    "1. Реализуйте все методы класса `LogisticRegressionGD`\n",
    "2. Создайте модель и обучите ее с параметрами по умолчанию на train данных\n",
    "3. по полученным `accs` и  `losses` посчитайте среднее.\n",
    "4. Посчитайте accuracy на test данных. `threshold=0.5`."
   ]
  },
  {
   "cell_type": "markdown",
   "metadata": {
    "colab_type": "text",
    "id": "Ku-r6kPq9bWr"
   },
   "source": [
    "### Logistic regresion with SGD"
   ]
  },
  {
   "cell_type": "markdown",
   "metadata": {
    "colab_type": "text",
    "id": "6IGzwx9n9bWr"
   },
   "source": [
    "Сложность вычисления в случае с GD $O(kn)$, где $k$ - размер вектора признаков, $n$ - размер всей выборки.\n",
    "В случае, когда выборка очень большая, это решение становится непрактичным\n",
    "\n",
    "GD заменяют на SGD - *Стохастический градиентный спуск*. Он отличается от обычного заменой градиента на несмещённую оценку по одному или нескольким объектам. В этом случае сложность становится  $O(kl)$ , где  $l$  — количество объектов, по которым оценивается градиент,  $l << n$."
   ]
  },
  {
   "cell_type": "code",
   "execution_count": 25,
   "metadata": {
    "colab": {},
    "colab_type": "code",
    "id": "zROrnclo9bWs"
   },
   "outputs": [],
   "source": [
    "def batch_generator(X, y, batch_size=100):\n",
    "    \n",
    "    num_samples = X.shape[0]\n",
    "    num_batches = int(num_samples / batch_size)\n",
    "    for i in range(num_batches-1):\n",
    "        yield X[i*batch_size:(i+1)*batch_size,:], y[i*batch_size:(i+1)*batch_size] \n",
    "        \n",
    "class LogisticRegressionSGD:\n",
    "    def __init__(self):\n",
    "        pass\n",
    "    \n",
    "    def __extend_X(self, X):\n",
    "        return np.hstack((np.ones((X.shape[0], 1)), X))\n",
    "\n",
    "    def init_weights(self, input_size, output_size):\n",
    "        \"\"\"\n",
    "            Инициализирует параметры модели\n",
    "            W - матрица размерности (input_size, output_size)\n",
    "            инициализируется рандомными числами из\n",
    "            нормального распределения со средним 0 и стандартным отклонением 0.01\n",
    "        \"\"\"\n",
    "        np.random.seed(42)\n",
    "        self.W = np.random.normal(loc=0.0, scale=0.01, size=(input_size, output_size))\n",
    "        \n",
    "    def get_loss(self, p, y):\n",
    "        summa = sum(-(y * np.log(p) + (1 - y) * np.log(1 - p)))\n",
    "        return summa / y.shape[0]\n",
    "    \n",
    "    def sygmoid(self, X):\n",
    "        return 1/(1+np.exp(-X))\n",
    "                              \n",
    "    def get_prob(self, X):\n",
    "        \n",
    "        if X.shape[1] != self.W.shape[0]:\n",
    "            X = self.__extend_X(X)\n",
    "        return self.sygmoid(X @ self.W)\n",
    "    \n",
    "    def get_acc(self, p, y, threshold=0.5):\n",
    "        \n",
    "        p[p>=threshold] = True\n",
    "        p[p<threshold] = False\n",
    "        y[y==1] = True\n",
    "        y[y==0] = False\n",
    "        \n",
    "        return 1/y.shape[0]*np.array((np.where((y==p)))).shape[1]\n",
    "\n",
    "    def fit(self, X, y, num_epochs=10, lr=0.001):\n",
    "        \n",
    "        X = self.__extend_X(X)\n",
    "        self.init_weights(X.shape[1], y.shape[1])\n",
    "        \n",
    "        accs = []\n",
    "        losses = []\n",
    "        for _ in range(num_epochs):\n",
    "            gen = batch_generator(X, y)\n",
    "            for X_, y_ in gen:\n",
    "                p = self.get_prob(X_)\n",
    "\n",
    "                W_grad = X_.T @ (p-y_)/y_.shape[0]\n",
    "                self.W -= lr*W_grad\n",
    "                \n",
    "                p = np.clip(p, 1e-10, 1 - 1e-10)\n",
    "\n",
    "                log_loss = self.get_loss(p, y_)\n",
    "                losses.append(log_loss)\n",
    "                acc = self.get_acc(p, y_)\n",
    "                accs.append(acc)\n",
    "        \n",
    "        return accs, losses"
   ]
  },
  {
   "cell_type": "code",
   "execution_count": 26,
   "metadata": {
    "colab": {},
    "colab_type": "code",
    "id": "bR3hSDgy9bWu"
   },
   "outputs": [],
   "source": [
    "model = LogisticRegressionSGD()\n",
    "accs, losses = model.fit(X_train, y_train)"
   ]
  },
  {
   "cell_type": "code",
   "execution_count": 27,
   "metadata": {
    "colab": {},
    "colab_type": "code",
    "id": "_FZvwpkT9bWx"
   },
   "outputs": [
    {
     "data": {
      "image/png": "[encoded data removed]",
      "text/plain": [
       "<Figure size 432x288 with 1 Axes>"
      ]
     },
     "metadata": {
      "needs_background": "light"
     },
     "output_type": "display_data"
    }
   ],
   "source": [
    "# графики для accuracy и для loss\n",
    "plt.plot(accs)\n",
    "plt.plot(losses)\n",
    "plt.show()"
   ]
  }
 ],
 "metadata": {
  "colab": {
   "collapsed_sections": [],
   "name": "[homework]6_OOP_and_optimization.ipynb",
   "provenance": []
  },
  "hide_input": false,
  "kernelspec": {
   "display_name": "Python 3",
   "language": "python",
   "name": "python3"
  },
  "language_info": {
   "codemirror_mode": {
    "name": "ipython",
    "version": 3
   },
   "file_extension": ".py",
   "mimetype": "text/x-python",
   "name": "python",
   "nbconvert_exporter": "python",
   "pygments_lexer": "ipython3",
   "version": "3.7.1"
  },
  "varInspector": {
   "cols": {
    "lenName": 16,
    "lenType": 16,
    "lenVar": 40
   },
   "kernels_config": {
    "python": {
     "delete_cmd_postfix": "",
     "delete_cmd_prefix": "del ",
     "library": "var_list.py",
     "varRefreshCmd": "print(var_dic_list())"
    },
    "r": {
     "delete_cmd_postfix": ") ",
     "delete_cmd_prefix": "rm(",
     "library": "var_list.r",
     "varRefreshCmd": "cat(var_dic_list()) "
    }
   },
   "types_to_exclude": [
    "module",
    "function",
    "builtin_function_or_method",
    "instance",
    "_Feature"
   ],
   "window_display": false
  }
 },
 "nbformat": 4,
 "nbformat_minor": 1
}
